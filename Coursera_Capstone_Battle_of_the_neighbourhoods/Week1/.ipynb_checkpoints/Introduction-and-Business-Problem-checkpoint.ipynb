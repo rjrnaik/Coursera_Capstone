{
 "cells": [
  {
   "cell_type": "markdown",
   "metadata": {},
   "source": [
    "# Introduction & Business Problem:\n",
    "\n",
    "## Problem Background: \n",
    "California state is the most populous state in the United States. It has a diverse culture and has been influenced by the Spanish settlers of the 18th and 19th centuries. It provides lot of business opportunities and business friendly environment. It has attracted many different players into the market. With its breath-taking shoreline and strong economy, the state has become indelibly known as a place abounding in opportunities—for those eager to seize them. It is a global hub of business and commerce and especially real estate. \n",
    "This also means that the real estate market is highly competitive. Hence, investment in real estate bears its own challenges. The insights derived from analysis will give good understanding of the housing environment which help in strategically targeting housing process and locations. This will help in reduction of risk and improvement in Return on Investment (ROI).\n",
    "Problem Description: \n",
    "Real estate and housing are investments which need thorough research and the correct know-how by investors in return for assets, either settled via loans or in exchange of other assets or selling mortgages. California, the golden state as it is called, is home to the most expensive and luxurious housing areas in the entire country.\n",
    "There are numerous factors which are required to be kept in mind before a fruitful investment in real estate is possible:\n",
    "1.\tLocation\n",
    "2.\tHouseholds\n",
    "3.\tHousing Age\n",
    "4.\tTotal number of rooms\n",
    "5.\tTotal number of bedrooms\n",
    "6.\tIncome of investors\n",
    "7.\tOcean proximity\n",
    "8.\tHouse Value \n",
    "\n",
    "For any real-estate investor the initial step is crucial, thereby keeping the above factors in mind is the key.\n",
    "\n",
    "## Target Audience: \n",
    "This would interest anyone who has a zeal in real estate or would like to buy a new residence in the state of California.\n",
    "\n",
    "## Success Criteria: \n",
    "The success criteria of the project will be a good measure of how the intended parties interested in the housing investment are able to make the correct judgement on the appreciation of the property using the information we have provided.\n",
    "\n",
    "## Data:\n",
    "California state will be analysed for the information on houses and other different factors.\n",
    "\n",
    "The data pertains to the houses found in a given California district and some summary stats about them based on the 1990 census data.\n",
    "\n",
    "Link to the dataset is : https://www.kaggle.com/camnugent/california-housing-prices\n"
   ]
  }
 ],
 "metadata": {
  "kernelspec": {
   "display_name": "Python 3",
   "language": "python",
   "name": "python3"
  },
  "language_info": {
   "codemirror_mode": {
    "name": "ipython",
    "version": 3
   },
   "file_extension": ".py",
   "mimetype": "text/x-python",
   "name": "python",
   "nbconvert_exporter": "python",
   "pygments_lexer": "ipython3",
   "version": "3.7.6"
  }
 },
 "nbformat": 4,
 "nbformat_minor": 4
}
